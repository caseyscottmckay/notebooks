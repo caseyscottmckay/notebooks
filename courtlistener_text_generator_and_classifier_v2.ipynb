{
 "cells": [
  {
   "cell_type": "code",
   "execution_count": null,
   "metadata": {
    "colab": {
     "base_uri": "https://localhost:8080/",
     "height": 1000
    },
    "colab_type": "code",
    "executionInfo": {
     "elapsed": 246771,
     "status": "ok",
     "timestamp": 1579882124020,
     "user": {
      "displayName": "Alphonso Trulove",
      "photoUrl": "",
      "userId": "18082245803815446122"
     },
     "user_tz": 300
    },
    "id": "lhdzkG_J__C7",
    "outputId": "148a9c25-6253-4829-a39d-48169d9c6789"
   },
   "outputs": [],
   "source": [
    "#!unzip \"/content/drive/My Drive/data/google-quest-challenge.zip\" -d \"/content/drive/My Drive/data/google-quest-challenge\"\n",
    "\n",
    "%reload_ext autoreload\n",
    "%autoreload 2\n",
    "%matplotlib inline\n",
    "from fastai import *\n",
    "from fastai.text import *\n",
    "from fastai.tabular import *\n",
    "from fastai.callbacks import *\n",
    "from pathlib import Path\n",
    "import numpy as np\n",
    "import pandas as pd\n",
    "from sklearn.model_selection import train_test_split\n",
    "\n",
    "#from google.colab import drive\n",
    "#drive.mount('/content/drive')\n",
    "\n",
    "path= Path(\"/home/jupyter/data/courtlistener\")\n",
    "#path= Path(\"/home/jupyter/data/courtlistener\")\n",
    "\n",
    "bs =64\n",
    "df = pd.read_csv(path/\"cl_scotus_opinions.csv\")[0:1000]\n",
    "print(df.shape)\n",
    "print(df.head())\n",
    "df = df.fillna('')\n",
    "train, test = train_test_split(df, test_size=0.2)\n",
    "#sub = pd.read_csv(\"/content/drive/My Drive/data/google-quest-challenge/sample_submission.csv\")\n",
    "train.head()\n",
    "#preprocess\n",
    "lm_df = train.append(test, ignore_index=True, sort=False)\n",
    "np.random.seed(42)\n",
    "lm_df = lm_df.iloc[np.random.permutation(len(train))]\n",
    "cut = int(0.2 * len(lm_df)) +1\n",
    "train_lm_df, valid_lm_df = lm_df[cut:], lm_df[:cut]\n",
    "\n",
    "data_lm = TextLMDataBunch.from_df(path, train_lm_df, valid_lm_df, text_cols=[\"citation\", \"resource_type\",\"jurisdiction\",\"category\",\"judge\",\"summary\",\"text\",\"float_dummy1\",\"float_dummy2\"],\n",
    "                                  mark_fields=True,\n",
    "                                  bs=bs)\n",
    "data_lm.show_batch()\n",
    "data_lm.save('data_lm_export.pkl')\n",
    "labels = train.columns[(train.columns.str.startswith(\"float_dummy\")) | \n",
    "                           (train.columns.str.startswith(\"float_dummy\"))].to_list()\n",
    "labels = list(filter(lambda x: x not in ['text',\n",
    "                                         'judge',\n",
    "                                         'resource_type',\n",
    "                                         'category'], labels))\n",
    "print(labels)\n",
    "\n",
    "#assert len(labels) == 30\n",
    "data_clas = TextClasDataBunch.from_df(path, train, test,\n",
    "                                       vocab=data_lm.train_ds.vocab, bs=bs,\n",
    "                                       text_cols=[\"citation\", \"case_name\"],\n",
    "                                       mark_fields=True,\n",
    "                                       label_cols=labels)\n",
    "data_clas.show_batch(reverse=True)\n",
    "data_clas.save('data_clas.pkl')\n",
    "\n",
    "#fine tune LM\n",
    "data_lm = load_data(path, 'data_lm_export.pkl', bs=bs)\n",
    "\n",
    "learn = language_model_learner(data_lm, AWD_LSTM, drop_mult=0.5)\n",
    "#learn = language_model_learner(data_lm, AWD_LSTM, drop_mult=0.5,\n",
    "                               #metrics=[accuracy, Perplexity()],\n",
    "                               #callback_fns=[partial(EarlyStoppingCallback, monitor=\"perplexity\", mode=\"min\", patience=3),\n",
    "                                             #partial(SaveModelCallback, monitor=\"perplexity\", mode=\"min\"), name='bestmodel'])\n",
    "learn.save('bestmodel.pth')\n",
    "learn = learn.to_fp16()\n",
    "learn.lr_find()\n",
    "learn.recorder.plot(skip_end=5)\n",
    "learn.fit_one_cycle(1, 5e-2, moms=(0.8, 0.7))\n",
    "learn.save('fit_head')\n",
    "learn.load('fit_head');\n",
    "#to complete fine-tuning, unfreeze and launch a new training\n",
    "learn.unfreeze()\n",
    "learn.fit_one_cycle(1, 1e-3, moms=(0.8, 0.7)) #todo default 10\n",
    "learn.save('fine_tuned')\n",
    "learn.load('fine_tuned')                                                         \n",
    "learn.export(file=Path(\"/home/jupyter/data/courtlistener/courtlistener_text_generator_LSTM_export_v2.pkl\"))\n",
    "#print(\"\\n\".join(learn.predict(TEXT, N_WORDS, temperature=0.75) for _ in range(N_SENTENCES)))\n",
    "print(learn.predict(\"According to constitution, the federal rules, and stare decisis\", n_words=100))\n",
    "learn.save_encoder('fine_tuned_enc')\n",
    "\n"
   ]
  },
  {
   "cell_type": "code",
   "execution_count": 1,
   "metadata": {
    "colab": {
     "base_uri": "https://localhost:8080/",
     "height": 219
    },
    "colab_type": "code",
    "executionInfo": {
     "elapsed": 448,
     "status": "error",
     "timestamp": 1579888552096,
     "user": {
      "displayName": "Alphonso Trulove",
      "photoUrl": "",
      "userId": "18082245803815446122"
     },
     "user_tz": 300
    },
    "id": "KxHvmav1NURj",
    "outputId": "7b612ff3-9dd3-40ad-881e-c8387368ce5f"
   },
   "outputs": [
    {
     "ename": "NameError",
     "evalue": "ignored",
     "output_type": "error",
     "traceback": [
      "\u001b[0;31m---------------------------------------------------------------------------\u001b[0m",
      "\u001b[0;31mNameError\u001b[0m                                 Traceback (most recent call last)",
      "\u001b[0;32m<ipython-input-1-2928886f2bed>\u001b[0m in \u001b[0;36m<module>\u001b[0;34m()\u001b[0m\n\u001b[1;32m      2\u001b[0m \u001b[0mN_WORDS\u001b[0m \u001b[0;34m=\u001b[0m \u001b[0;36m199\u001b[0m\u001b[0;34m\u001b[0m\u001b[0;34m\u001b[0m\u001b[0m\n\u001b[1;32m      3\u001b[0m \u001b[0mN_SENTENCES\u001b[0m\u001b[0;34m=\u001b[0m\u001b[0;36m2\u001b[0m\u001b[0;34m\u001b[0m\u001b[0;34m\u001b[0m\u001b[0m\n\u001b[0;32m----> 4\u001b[0;31m \u001b[0mlearn\u001b[0m \u001b[0;34m=\u001b[0m \u001b[0mload_learner\u001b[0m\u001b[0;34m(\u001b[0m\u001b[0mPath\u001b[0m\u001b[0;34m(\u001b[0m\u001b[0;34m'/content/drive/My Drive/data/courtlistener'\u001b[0m\u001b[0;34m)\u001b[0m\u001b[0;34m,\u001b[0m\u001b[0;34m'courtlistener_text_generator_LSTM_export_v2.pkl'\u001b[0m\u001b[0;34m)\u001b[0m\u001b[0;34m\u001b[0m\u001b[0;34m\u001b[0m\u001b[0m\n\u001b[0m\u001b[1;32m      5\u001b[0m \u001b[0mprint\u001b[0m\u001b[0;34m(\u001b[0m\u001b[0;34m\"\\n\"\u001b[0m\u001b[0;34m.\u001b[0m\u001b[0mjoin\u001b[0m\u001b[0;34m(\u001b[0m\u001b[0mlearn\u001b[0m\u001b[0;34m.\u001b[0m\u001b[0mpredict\u001b[0m\u001b[0;34m(\u001b[0m\u001b[0mTEXT\u001b[0m\u001b[0;34m,\u001b[0m \u001b[0mN_WORDS\u001b[0m\u001b[0;34m,\u001b[0m \u001b[0mtemperature\u001b[0m\u001b[0;34m=\u001b[0m\u001b[0;36m0.75\u001b[0m\u001b[0;34m)\u001b[0m \u001b[0;32mfor\u001b[0m \u001b[0m_\u001b[0m \u001b[0;32min\u001b[0m \u001b[0mrange\u001b[0m\u001b[0;34m(\u001b[0m\u001b[0mN_SENTENCES\u001b[0m\u001b[0;34m)\u001b[0m\u001b[0;34m)\u001b[0m\u001b[0;34m)\u001b[0m\u001b[0;34m\u001b[0m\u001b[0;34m\u001b[0m\u001b[0m\n",
      "\u001b[0;31mNameError\u001b[0m: name 'load_learner' is not defined"
     ]
    }
   ],
   "source": [
    "TEXT=\"Under state law in the state of\"\n",
    "N_WORDS = 199\n",
    "N_SENTENCES=2\n",
    "learn = load_learner(Path('/content/drive/My Drive/data/courtlistener'),'courtlistener_text_generator_LSTM_export_v2.pkl')\n",
    "print(\"\\n\".join(learn.predict(TEXT, N_WORDS, temperature=0.75) for _ in range(N_SENTENCES)))\n"
   ]
  },
  {
   "cell_type": "code",
   "execution_count": null,
   "metadata": {
    "colab": {
     "base_uri": "https://localhost:8080/",
     "height": 274
    },
    "colab_type": "code",
    "executionInfo": {
     "elapsed": 648,
     "status": "error",
     "timestamp": 1579879730592,
     "user": {
      "displayName": "Alphonso Trulove",
      "photoUrl": "",
      "userId": "18082245803815446122"
     },
     "user_tz": 300
    },
    "id": "iSRs58cW-0vC",
    "outputId": "fe16e8c7-6b34-4e48-f299-b1eba3d863a8"
   },
   "outputs": [
    {
     "name": "stdout",
     "output_type": "stream",
     "text": [
      "Drive already mounted at /content/drive; to attempt to forcibly remount, call drive.mount(\"/content/drive\", force_remount=True).\n"
     ]
    },
    {
     "ename": "NameError",
     "evalue": "ignored",
     "output_type": "error",
     "traceback": [
      "\u001b[0;31m---------------------------------------------------------------------------\u001b[0m",
      "\u001b[0;31mNameError\u001b[0m                                 Traceback (most recent call last)",
      "\u001b[0;32m<ipython-input-13-4c03735395af>\u001b[0m in \u001b[0;36m<module>\u001b[0;34m()\u001b[0m\n\u001b[1;32m      8\u001b[0m \u001b[0mpath\u001b[0m\u001b[0;34m=\u001b[0m \u001b[0mPath\u001b[0m\u001b[0;34m(\u001b[0m\u001b[0;34m'/content/drive/My Drive/data/judges'\u001b[0m\u001b[0;34m)\u001b[0m\u001b[0;34m\u001b[0m\u001b[0;34m\u001b[0m\u001b[0m\n\u001b[1;32m      9\u001b[0m \u001b[0mbs\u001b[0m\u001b[0;34m=\u001b[0m\u001b[0;36m16\u001b[0m\u001b[0;34m\u001b[0m\u001b[0;34m\u001b[0m\u001b[0m\n\u001b[0;32m---> 10\u001b[0;31m data_clas = (TextList.from_folder(path, vocab=data_lm.vocab, procs=procs)\n\u001b[0m\u001b[1;32m     11\u001b[0m              \u001b[0;31m#grab all the text files in path\u001b[0m\u001b[0;34m\u001b[0m\u001b[0;34m\u001b[0m\u001b[0;34m\u001b[0m\u001b[0m\n\u001b[1;32m     12\u001b[0m              \u001b[0;34m.\u001b[0m\u001b[0msplit_by_folder\u001b[0m\u001b[0;34m(\u001b[0m\u001b[0mvalid\u001b[0m\u001b[0;34m=\u001b[0m\u001b[0;34m'test'\u001b[0m\u001b[0;34m)\u001b[0m\u001b[0;34m\u001b[0m\u001b[0;34m\u001b[0m\u001b[0m\n",
      "\u001b[0;31mNameError\u001b[0m: name 'procs' is not defined"
     ]
    }
   ],
   "source": [
    "#Classifier\n",
    "#TODO\n",
    "%reload_ext autoreload\n",
    "%autoreload 2\n",
    "%matplotlib inline\n",
    "from fastai.text import *\n",
    "from google.colab import drive\n",
    "drive.mount('/content/drive')\n",
    "data_lm = load_data(path,'data_lm.pkl', bs=bs) \n",
    "path= Path('/content/drive/My Drive/data/judges')\n",
    "bs=16\n",
    "data_clas = (TextList.from_folder(path, vocab=data_lm.vocab)\n",
    "             #grab all the text files in path\n",
    "             .split_by_folder(valid='test')\n",
    "             #split by train and valid folder (that only keeps 'train' and 'test' so no need to filter)\n",
    "             .label_from_folder(classes=['alito','black','brandeis', 'breyer','clifford', 'ginsburg', 'harlan','holmes', 'kennedy', 'marshall', 'mathews', 'oconnor', 'robers','rutledge', 'scalia', 'sotomayor', 'souter', 'taney', 'thomas', 'todd', 'warren'])\n",
    "             #label them all with their folders\n",
    "             .databunch(bs=bs))\n",
    "\n",
    "data_clas.save('data_clas.pkl')\n",
    "\n",
    "\n",
    "\n",
    "data_clas.save('data_clas.pkl')\n",
    "data_clas = load_data(path, 'data_clas.pkl', bs=bs)\n",
    "#data_clas.show_batch()\n",
    "\n",
    "#creatae a model to classify those reviews and load the encoder we saved before\n",
    "learn = text_classifier_learner(data_clas, AWD_LSTM, drop_mult=0.5)\n",
    "learn.load_encoder('fine_tuned_enc')\n",
    "learn.lr_find()\n",
    "learn.recorder.plot()\n",
    "learn.fit_one_cycle(1, 2e-2, moms=(.8, .7))\n",
    "\n",
    "learn.save('first')\n",
    "learn.load('first');\n",
    "learn.freeze_to(-2)\n",
    "learn.fit_one_cycle(1, slice(1e-2/(2.6**4),1e-2), moms=(0.8,0.7))\n",
    "learn.save('second')\n",
    "learn.load('second')\n",
    "learn.freeze_to(-3)\n",
    "learn.fit_one_cycle(1, slice(5e-3/(2.6**4),5e-3), moms=(0.8,0.7))\n",
    "learn.save('third')\n",
    "learn.load('third')\n",
    "\n",
    "learn.unfreeze()\n",
    "learn.fit_one_cycle(2, slice(1e-3/(2.6**4),1e-3), moms=(0.8,0.7))\n",
    "learn.export(file=Path(\"/content/drive/My Drive/data/courtlistener_text_classifier_LSTM_export_v2.pkl\"))\n",
    "learn.predict(\"The holding in the case at hand\")"
   ]
  }
 ],
 "metadata": {
  "accelerator": "GPU",
  "colab": {
   "authorship_tag": "ABX9TyPm1jEQvJTolOVtR8WWrVWV",
   "name": "courtlistener_text_generator_and_classifier_v2.ipynb",
   "provenance": []
  },
  "kernelspec": {
   "display_name": "Python 3",
   "language": "python",
   "name": "python3"
  },
  "language_info": {
   "codemirror_mode": {
    "name": "ipython",
    "version": 3
   },
   "file_extension": ".py",
   "mimetype": "text/x-python",
   "name": "python",
   "nbconvert_exporter": "python",
   "pygments_lexer": "ipython3",
   "version": "3.7.4"
  }
 },
 "nbformat": 4,
 "nbformat_minor": 4
}
